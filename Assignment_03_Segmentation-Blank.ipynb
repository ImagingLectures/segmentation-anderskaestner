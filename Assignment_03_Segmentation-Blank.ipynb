{
 "cells": [
  {
   "cell_type": "markdown",
   "metadata": {},
   "source": [
    "## Load packages"
   ]
  },
  {
   "cell_type": "code",
   "execution_count": null,
   "metadata": {
    "collapsed": true
   },
   "outputs": [],
   "source": [
    "import numpy as np\n",
    "import matplotlib.pyplot as plt\n",
    "import skimage.morphology as morph\n",
    "from skimage import filters\n",
    "from scipy import ndimage\n",
    "%matplotlib inline"
   ]
  },
  {
   "cell_type": "markdown",
   "metadata": {},
   "source": [
    "# Exercise 1: The Histogram"
   ]
  },
  {
   "cell_type": "markdown",
   "metadata": {},
   "source": [
    "Open the image \"comp_noise.png\" and show it"
   ]
  },
  {
   "cell_type": "code",
   "execution_count": null,
   "metadata": {},
   "outputs": [],
   "source": []
  },
  {
   "cell_type": "markdown",
   "metadata": {},
   "source": [
    "The histogram is created by [https://docs.scipy.org/doc/numpy-1.13.0/reference/generated/numpy.histogram.html](numpy.histogram)"
   ]
  },
  {
   "cell_type": "code",
   "execution_count": null,
   "metadata": {},
   "outputs": [],
   "source": [
    "hist,axis = np.histogram(img,bins=128)\n",
    "plt.plot(axis[0:-1],hist)\n",
    "plt.xlabel('Gray value')\n",
    "plt.ylabel('Counts')"
   ]
  },
  {
   "cell_type": "markdown",
   "metadata": {},
   "source": [
    "You apply a threshold by bimg=>th where th is the threshold."
   ]
  },
  {
   "cell_type": "code",
   "execution_count": null,
   "metadata": {},
   "outputs": [],
   "source": [
    "bimg=0.5<img\n",
    "plt.imshow(bimg)\n",
    "plt.title('th=0.5')"
   ]
  },
  {
   "cell_type": "markdown",
   "metadata": {},
   "source": [
    "Now, create two subplots with images where the thresholds are placed on\n",
    "the first and second histogram peaks. Add the previous image segmented between the peaks."
   ]
  },
  {
   "cell_type": "code",
   "execution_count": null,
   "metadata": {},
   "outputs": [],
   "source": []
  },
  {
   "cell_type": "markdown",
   "metadata": {},
   "source": [
    "# Exercise 2: Explore thresholding methods\n",
    "Use the same image as in the previous exercise. SciKit Image provides many thresholding methods http://scikit-image.org/docs/dev/auto_examples/xx_applications/plot_thresholding.html.\n",
    "\n",
    "One is the Otsu threshold. To segment an image you perform the following steps."
   ]
  },
  {
   "cell_type": "code",
   "execution_count": null,
   "metadata": {},
   "outputs": [],
   "source": [
    "otsu = filters.threshold_otsu(img)\n",
    "print('The threshold according to',otsu)\n",
    "plt.imshow(otsu<img)\n",
    "plt.title('Otsu')"
   ]
  },
  {
   "cell_type": "code",
   "execution_count": null,
   "metadata": {
    "collapsed": true
   },
   "outputs": [],
   "source": []
  },
  {
   "cell_type": "markdown",
   "metadata": {},
   "source": [
    "# Exercise 3: Threshold based on likelihood ratio\n",
    "\n",
    "Use the image noisy_2var.mat. Segment it using the\n",
    "following hypotheses:\n",
    "\\begin{eqnarray}\n",
    "H_0 &:& \\mathcal{N}(0,1)\\\\\n",
    "H_1 &:& \\mathcal{N}(0,2)\\nonumber\n",
    "\\end{eqnarray}\n",
    "\n",
    "Compute the log-likelihood ratio from\n",
    "$\\Lambda(R)=\\frac{p_{r|H_1}(R|H_1)}{p_{r|H_0}(R|H_0)}=\\eta$\n",
    "with\n",
    "\\begin{eqnarray}\n",
    "p_{r|H_0}(R|H_0)&=& \\prod_{i=1}^{N}\\frac{1}{\\sqrt{2\\,\\pi}\\sigma_0}\\exp{\\frac{{R_i}^2}{2\\,{\\sigma_0}^2}}\\nonumber\\\\\n",
    "p_{r|H_1}(R|H_1)&=&\\prod_{i=1}^{N}\\frac{1}{\\sqrt{2\\,\\pi}\\sigma_1}\\exp{\\frac{{R_i}^2}{2\\,{\\sigma_1}^2}}\n",
    "\\nonumber\n",
    "\\end{eqnarray}\n",
    "\n",
    "The evaluation of the likelihood ratio is found in van Trees p. 29 (included PDF). From this evaluation it is given that\n",
    "1. The local sum of squares ($l(R)=\\sum_{i=1}^{N} R_i^2 $) is our sufficient statistic\n",
    "2. The threshold is $l(R) \\lessgtr \\frac{2\\sigma_0^2 \\sigma_1^2}{\\sigma_1^2 - \\sigma_0^2} \\left(N \\ln\\frac{\\sigma_0}{\\sigma_1}-\\ln \\eta\\right)=\\gamma$\n",
    "\n",
    "\n",
    "$h_{N\\times N}$ is box filter with all weights =1 and $f_{median}$ is median filtered with $N\\times N$.\n",
    "\n",
    "1. Test the thresholding with different values on $\\eta$. \n",
    "2. Compare with an Otsu threshold."
   ]
  },
  {
   "cell_type": "markdown",
   "metadata": {},
   "source": [
    "First, we need some data"
   ]
  },
  {
   "cell_type": "code",
   "execution_count": null,
   "metadata": {},
   "outputs": [],
   "source": [
    "s0=1.0\n",
    "s1=2.0\n",
    "simg=img*(np.random.normal(0,s0,img.shape))+(1-img)*(np.random.normal(0,s1,img.shape))\n",
    "plt.figure(figsize=[12,6])\n",
    "plt.subplot(1,2,1)\n",
    "plt.imshow(simg)\n",
    "plt.subplot(1,2,2)\n",
    "hist,axis = np.histogram(simg,bins=128)\n",
    "plt.plot(axis[0:-1],hist)\n",
    "plt.xlabel('Gray value')\n",
    "plt.ylabel('Counts')"
   ]
  },
  {
   "cell_type": "markdown",
   "metadata": {},
   "source": [
    "Verify if it makes sense to use the sufficient statistic. Filter the imgage squared with a uniform filter (kernel size NxN)"
   ]
  },
  {
   "cell_type": "code",
   "execution_count": null,
   "metadata": {},
   "outputs": [],
   "source": []
  },
  {
   "cell_type": "markdown",
   "metadata": {},
   "source": [
    "Now define a function for the likelihood ratio..."
   ]
  },
  {
   "cell_type": "code",
   "execution_count": null,
   "metadata": {
    "collapsed": true
   },
   "outputs": [],
   "source": [
    "def LikelihoodRatio(img,s0,s1,N,eta) :\n",
    "    img2 = ndimage.uniform_filter(img**2,N)*N**2\n",
    "    gamma = 0 # Your equation here ...\n",
    "    res= img2 < gamma\n",
    "    return res"
   ]
  },
  {
   "cell_type": "code",
   "execution_count": null,
   "metadata": {},
   "outputs": [],
   "source": [
    "plt.imshow(LikelihoodRatio(simg,s0,s1,7,0.005))"
   ]
  },
  {
   "cell_type": "markdown",
   "metadata": {
    "collapsed": true
   },
   "source": [
    "Compare with Otsu"
   ]
  },
  {
   "cell_type": "code",
   "execution_count": null,
   "metadata": {
    "collapsed": true
   },
   "outputs": [],
   "source": []
  }
 ],
 "metadata": {
  "kernelspec": {
   "display_name": "Python 3",
   "language": "python",
   "name": "python3"
  },
  "language_info": {
   "codemirror_mode": {
    "name": "ipython",
    "version": 3
   },
   "file_extension": ".py",
   "mimetype": "text/x-python",
   "name": "python",
   "nbconvert_exporter": "python",
   "pygments_lexer": "ipython3",
   "version": "3.6.1"
  }
 },
 "nbformat": 4,
 "nbformat_minor": 2
}
