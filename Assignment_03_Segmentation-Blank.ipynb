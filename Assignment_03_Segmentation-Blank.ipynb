{
 "cells": [
  {
   "cell_type": "markdown",
   "metadata": {},
   "source": [
    "## Load packages"
   ]
  },
  {
   "cell_type": "code",
   "execution_count": null,
   "metadata": {
    "collapsed": true
   },
   "outputs": [],
   "source": [
    "import numpy as np\n",
    "import matplotlib.pyplot as plt\n",
    "import skimage.morphology as morph\n",
    "from skimage import filters\n",
    "from scipy import ndimage\n",
    "%matplotlib inline"
   ]
  },
  {
   "cell_type": "markdown",
   "metadata": {},
   "source": [
    "# Exercise 1: The Histogram"
   ]
  },
  {
   "cell_type": "markdown",
   "metadata": {},
   "source": [
    "Open the image \"comp_noise.png\" and show it"
   ]
  },
  {
   "cell_type": "code",
   "execution_count": null,
   "metadata": {},
   "outputs": [],
   "source": [
    "img=plt.imread('comp_noise.png')\n",
    "\n",
    "plt.imshow(img)"
   ]
  },
  {
   "cell_type": "markdown",
   "metadata": {},
   "source": [
    "The histogram is created by [https://docs.scipy.org/doc/numpy-1.13.0/reference/generated/numpy.histogram.html](numpy.histogram)"
   ]
  },
  {
   "cell_type": "code",
   "execution_count": null,
   "metadata": {},
   "outputs": [],
   "source": [
    "hist,axis = np.histogram(img,bins=128)\n",
    "plt.plot(axis[0:-1],hist)\n",
    "plt.xlabel('Gray value')\n",
    "plt.ylabel('Counts')"
   ]
  },
  {
   "cell_type": "markdown",
   "metadata": {},
   "source": [
    "You can apply a threshold by computing the expression $bimg=>th$, where th is the threshold."
   ]
  },
  {
   "cell_type": "code",
   "execution_count": null,
   "metadata": {},
   "outputs": [],
   "source": [
    "bimg=0.5<img\n",
    "plt.imshow(bimg)\n",
    "plt.title('th=0.5')"
   ]
  },
  {
   "cell_type": "markdown",
   "metadata": {},
   "source": [
    "Now, create two subplots with images where the thresholds are placed on\n",
    "the first and second histogram peaks. Add the previous image segmented between the peaks. \n",
    "\n",
    "Q1.1: What is your conclusion about the thresholds at the three positions in the histogram?"
   ]
  },
  {
   "cell_type": "code",
   "execution_count": null,
   "metadata": {},
   "outputs": [],
   "source": [
    "# your code"
   ]
  },
  {
   "cell_type": "markdown",
   "metadata": {},
   "source": [
    "### Answer: \n",
    "..."
   ]
  },
  {
   "cell_type": "markdown",
   "metadata": {},
   "source": [
    "# Exercise 2: Explore thresholding methods\n",
    "Use the same image as in the previous exercise. SciKit Image provides many thresholding methods https://scikit-image.org/docs/dev/auto_examples/segmentation/plot_thresholding.html.\n",
    "\n",
    "One is the Otsu threshold. To segment an image you perform the following steps."
   ]
  },
  {
   "cell_type": "code",
   "execution_count": null,
   "metadata": {},
   "outputs": [],
   "source": [
    "otsu = filters.threshold_otsu(img)\n",
    "print('The threshold according to',otsu)\n",
    "plt.imshow(otsu<img)\n",
    "plt.title('Otsu')"
   ]
  },
  {
   "cell_type": "markdown",
   "metadata": {},
   "source": [
    "Using the try_all_threshold function you can evaluate the performance of different available thresholding methods. See example in the documentation. \n",
    "\n",
    "Q2.1: Is there any difference? \n",
    "\n",
    "Q2.2: Please explain why? Hint, try the function on a more complex image."
   ]
  },
  {
   "cell_type": "code",
   "execution_count": null,
   "metadata": {},
   "outputs": [],
   "source": [
    "#your code"
   ]
  },
  {
   "cell_type": "markdown",
   "metadata": {},
   "source": [
    "### Answers:\n",
    "Q2.1 : ...\n",
    "\n",
    "Q2.2 : ..."
   ]
  },
  {
   "cell_type": "markdown",
   "metadata": {},
   "source": [
    "# Exercise 3: Confidence maps"
   ]
  },
  {
   "cell_type": "markdown",
   "metadata": {},
   "source": [
    "1. Write a function that computes the probabilty for a class in an image. Use the expression for the Gaussian from the lectures\n",
    "2. Write a function that creates the joint confidence map for the two classes\n",
    "3. Identify the statistic parameters that describe the histgram peaks (manually or using a curve fit method). Plot the fitted Gaussians with the histogram. \n",
    "4. Compute the confidence map for the segmented images"
   ]
  },
  {
   "cell_type": "code",
   "execution_count": null,
   "metadata": {},
   "outputs": [],
   "source": [
    "def gaussian(x, mu, sig):\n",
    "    return 1./(np.sqrt(2.*np.pi)*sig)*np.exp(-(x - mu)**2/sig**2/2)\n",
    "\n",
    "plt.plot(axis,gaussian(axis,mu=0.5,sig=0.1))"
   ]
  },
  {
   "cell_type": "code",
   "execution_count": null,
   "metadata": {},
   "outputs": [],
   "source": [
    "def confidence(x,m,s) :\n",
    "    p = 0 # your code here\n",
    "    return p"
   ]
  },
  {
   "cell_type": "code",
   "execution_count": null,
   "metadata": {},
   "outputs": [],
   "source": [
    "def confidenceMap(img,m,s) :\n",
    "    \"\"\"\n",
    "    confidenceMap - computes the confidence map for a segmented image\n",
    "    \n",
    "    img - a bilevel image\n",
    "    m   - list with two elements containing the mean H0 and H1 respectively\n",
    "    s   - list with two elements containing the std dev for H0 and H1 respectively\n",
    "    \"\"\"\n",
    "    \n",
    "    conf = img # your code here\n",
    "    \n",
    "    return conf"
   ]
  },
  {
   "cell_type": "code",
   "execution_count": null,
   "metadata": {},
   "outputs": [],
   "source": [
    "# Your code here"
   ]
  },
  {
   "cell_type": "markdown",
   "metadata": {},
   "source": [
    "# Questions 3\n",
    "Q3.1: What happens to the confidence map when the threshold moves away from the 'cross-over' point?\n",
    "\n",
    "Q3.2: What can you observe in the conficence map of a segmenation of an unsharp image (smooth edges)?"
   ]
  },
  {
   "cell_type": "markdown",
   "metadata": {},
   "source": [
    "# Exercise 4 (optional): Threshold based on likelihood ratio\n",
    "\n",
    "Segment it using the\n",
    "following hypotheses:\n",
    "\\begin{eqnarray}\n",
    "H_0 &:& \\mathcal{N}(0,1)\\nonumber\\\\\n",
    "H_1 &:& \\mathcal{N}(0,2.5)\\nonumber\n",
    "\\end{eqnarray}\n",
    "\n",
    "Compute the log-likelihood ratio from\n",
    "$\\Lambda(R)=\\frac{p_{r|H_1}(R|H_1)}{p_{r|H_0}(R|H_0)}=\\gamma$\n",
    "with\n",
    "\\begin{eqnarray}\n",
    "p_{r|H_0}(R|H_0)&=& \\prod_{i=1}^{N}\\frac{1}{\\sqrt{2\\,\\pi}\\sigma_0}\\exp{\\frac{{R_i}^2}{2\\,{\\sigma_0}^2}}\\nonumber\\\\\n",
    "p_{r|H_1}(R|H_1)&=&\\prod_{i=1}^{N}\\frac{1}{\\sqrt{2\\,\\pi}\\sigma_1}\\exp{\\frac{{R_i}^2}{2\\,{\\sigma_1}^2}}\n",
    "\\nonumber\n",
    "\\end{eqnarray}\n",
    "\n",
    "The evaluation of the likelihood ratio is found in van Trees p. 29 (included PDF). From this evaluation it is given that\n",
    "1. The local sum of squares ($l(R)=\\sum_{i=1}^{N} R_i^2 $) is our sufficient statistic\n",
    "2. The threshold is $l(R) \\lessgtr \\frac{2\\sigma_0^2 \\sigma_1^2}{\\sigma_1^2 - \\sigma_0^2} \\left(N \\ln\\frac{\\sigma_0}{\\sigma_1}-\\ln \\eta\\right)=\\gamma$\n",
    "\n",
    "\n",
    "$h_{N\\times N}$ is box filter with all weights =1 and $f_{median}$ is median filtered with $N\\times N$."
   ]
  },
  {
   "cell_type": "markdown",
   "metadata": {},
   "source": [
    "First, we need some data. \n",
    "\n",
    "- Use the Bi-level image of the grains and set the pore space distribution to $\\mathcal{N}(0,2.5)$ and the grain distribution to $\\mathcal{N}(0,1)$. Hint: Multiply the bilevel image by a Gaussian noise image for the grains. Multiply by (1-bimg) for the pores.\n",
    "- Display the image\n",
    "- Compute and plot the histogram\n",
    "\n",
    "Q3.1: What is you conclusion about the histogram?\n",
    "\n",
    "Q3.2: Apply an Otsu threshold to the image. What happens?"
   ]
  },
  {
   "cell_type": "code",
   "execution_count": null,
   "metadata": {},
   "outputs": [],
   "source": [
    "# Your code\n"
   ]
  },
  {
   "cell_type": "markdown",
   "metadata": {},
   "source": [
    "### Answer:\n",
    "..."
   ]
  },
  {
   "cell_type": "markdown",
   "metadata": {},
   "source": [
    "Verify if it makes sense to use the sufficient statistic. \n",
    "- Filter the image intensity values squared, try N=5 and N=7\n",
    "- Apply a uniform filter (kernel size NxN with all elements = 1) \n",
    "\n",
    "Q3.3: What happens with increasing N?"
   ]
  },
  {
   "cell_type": "code",
   "execution_count": null,
   "metadata": {},
   "outputs": [],
   "source": [
    "plt.figure(figsize=[12,7])\n",
    "plt.subplot(1,3,1)\n",
    "plt.imshow(simg)\n",
    "plt.title('Original')\n",
    "plt.subplot(1,3,2)\n",
    "plt.imshow(ndimage.uniform_filter(simg**2,5))\n",
    "plt.title(\"$\\sum R_i^2$, N=5\")\n",
    "\n",
    "plt.subplot(1,3,3)\n",
    "plt.imshow(ndimage.uniform_filter(simg**2,7))\n",
    "plt.title(\"$\\sum R_i^2$, N=7\")\n",
    "\n"
   ]
  },
  {
   "cell_type": "markdown",
   "metadata": {},
   "source": [
    "### Answer:\n",
    "..."
   ]
  },
  {
   "cell_type": "markdown",
   "metadata": {},
   "source": [
    "Now define a function for the likelihood ratio..."
   ]
  },
  {
   "cell_type": "code",
   "execution_count": null,
   "metadata": {
    "collapsed": true
   },
   "outputs": [],
   "source": [
    "def LikelihoodRatio(img,s0,s1,N,eta) :\n",
    "    # your code\n",
    "    return res"
   ]
  },
  {
   "cell_type": "markdown",
   "metadata": {},
   "source": [
    "Test your function with different values of N=5,7 and $\\eta$=0.001,0.01,0.1\n",
    "\n",
    "Q3.4 What is the effect of N\n",
    "\n",
    "Q3.5 What is the effect of $\\eta$\n"
   ]
  },
  {
   "cell_type": "code",
   "execution_count": null,
   "metadata": {},
   "outputs": [],
   "source": [
    "# Your code"
   ]
  },
  {
   "cell_type": "markdown",
   "metadata": {},
   "source": [
    "### Answer\n",
    "..."
   ]
  },
  {
   "cell_type": "code",
   "execution_count": null,
   "metadata": {
    "collapsed": true
   },
   "outputs": [],
   "source": []
  }
 ],
 "metadata": {
  "kernelspec": {
   "display_name": "Python 3",
   "language": "python",
   "name": "python3"
  },
  "language_info": {
   "codemirror_mode": {
    "name": "ipython",
    "version": 3
   },
   "file_extension": ".py",
   "mimetype": "text/x-python",
   "name": "python",
   "nbconvert_exporter": "python",
   "pygments_lexer": "ipython3",
   "version": "3.7.3"
  }
 },
 "nbformat": 4,
 "nbformat_minor": 2
}
